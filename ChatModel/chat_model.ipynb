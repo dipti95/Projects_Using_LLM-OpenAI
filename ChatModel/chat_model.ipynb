{
 "cells": [
  {
   "cell_type": "code",
   "execution_count": 1,
   "id": "45736690-8008-4b1f-bff9-a96204e423b1",
   "metadata": {},
   "outputs": [
    {
     "name": "stdout",
     "output_type": "stream",
     "text": [
      "Requirement already satisfied: langchain in /home/azureuser/anaconda3/envs/myenv/lib/python3.11/site-packages (0.0.353)\n",
      "Requirement already satisfied: PyYAML>=5.3 in /home/azureuser/anaconda3/envs/myenv/lib/python3.11/site-packages (from langchain) (6.0.1)\n",
      "Requirement already satisfied: SQLAlchemy<3,>=1.4 in /home/azureuser/anaconda3/envs/myenv/lib/python3.11/site-packages (from langchain) (2.0.24)\n",
      "Requirement already satisfied: aiohttp<4.0.0,>=3.8.3 in /home/azureuser/anaconda3/envs/myenv/lib/python3.11/site-packages (from langchain) (3.9.1)\n",
      "Requirement already satisfied: dataclasses-json<0.7,>=0.5.7 in /home/azureuser/anaconda3/envs/myenv/lib/python3.11/site-packages (from langchain) (0.6.3)\n",
      "Requirement already satisfied: jsonpatch<2.0,>=1.33 in /home/azureuser/anaconda3/envs/myenv/lib/python3.11/site-packages (from langchain) (1.33)\n",
      "Requirement already satisfied: langchain-community<0.1,>=0.0.2 in /home/azureuser/anaconda3/envs/myenv/lib/python3.11/site-packages (from langchain) (0.0.7)\n",
      "Requirement already satisfied: langchain-core<0.2,>=0.1.4 in /home/azureuser/anaconda3/envs/myenv/lib/python3.11/site-packages (from langchain) (0.1.4)\n",
      "Requirement already satisfied: langsmith<0.1.0,>=0.0.70 in /home/azureuser/anaconda3/envs/myenv/lib/python3.11/site-packages (from langchain) (0.0.75)\n",
      "Requirement already satisfied: numpy<2,>=1 in /home/azureuser/anaconda3/envs/myenv/lib/python3.11/site-packages (from langchain) (1.26.2)\n",
      "Requirement already satisfied: pydantic<3,>=1 in /home/azureuser/anaconda3/envs/myenv/lib/python3.11/site-packages (from langchain) (2.5.3)\n",
      "Requirement already satisfied: requests<3,>=2 in /home/azureuser/anaconda3/envs/myenv/lib/python3.11/site-packages (from langchain) (2.31.0)\n",
      "Requirement already satisfied: tenacity<9.0.0,>=8.1.0 in /home/azureuser/anaconda3/envs/myenv/lib/python3.11/site-packages (from langchain) (8.2.3)\n",
      "Requirement already satisfied: attrs>=17.3.0 in /home/azureuser/anaconda3/envs/myenv/lib/python3.11/site-packages (from aiohttp<4.0.0,>=3.8.3->langchain) (23.2.0)\n",
      "Requirement already satisfied: multidict<7.0,>=4.5 in /home/azureuser/anaconda3/envs/myenv/lib/python3.11/site-packages (from aiohttp<4.0.0,>=3.8.3->langchain) (6.0.4)\n",
      "Requirement already satisfied: yarl<2.0,>=1.0 in /home/azureuser/anaconda3/envs/myenv/lib/python3.11/site-packages (from aiohttp<4.0.0,>=3.8.3->langchain) (1.9.4)\n",
      "Requirement already satisfied: frozenlist>=1.1.1 in /home/azureuser/anaconda3/envs/myenv/lib/python3.11/site-packages (from aiohttp<4.0.0,>=3.8.3->langchain) (1.4.1)\n",
      "Requirement already satisfied: aiosignal>=1.1.2 in /home/azureuser/anaconda3/envs/myenv/lib/python3.11/site-packages (from aiohttp<4.0.0,>=3.8.3->langchain) (1.3.1)\n",
      "Requirement already satisfied: marshmallow<4.0.0,>=3.18.0 in /home/azureuser/anaconda3/envs/myenv/lib/python3.11/site-packages (from dataclasses-json<0.7,>=0.5.7->langchain) (3.20.1)\n",
      "Requirement already satisfied: typing-inspect<1,>=0.4.0 in /home/azureuser/anaconda3/envs/myenv/lib/python3.11/site-packages (from dataclasses-json<0.7,>=0.5.7->langchain) (0.9.0)\n",
      "Requirement already satisfied: jsonpointer>=1.9 in /home/azureuser/anaconda3/envs/myenv/lib/python3.11/site-packages (from jsonpatch<2.0,>=1.33->langchain) (2.4)\n",
      "Requirement already satisfied: anyio<5,>=3 in /home/azureuser/anaconda3/envs/myenv/lib/python3.11/site-packages (from langchain-core<0.2,>=0.1.4->langchain) (4.2.0)\n",
      "Requirement already satisfied: packaging<24.0,>=23.2 in /home/azureuser/anaconda3/envs/myenv/lib/python3.11/site-packages (from langchain-core<0.2,>=0.1.4->langchain) (23.2)\n",
      "Requirement already satisfied: annotated-types>=0.4.0 in /home/azureuser/anaconda3/envs/myenv/lib/python3.11/site-packages (from pydantic<3,>=1->langchain) (0.6.0)\n",
      "Requirement already satisfied: pydantic-core==2.14.6 in /home/azureuser/anaconda3/envs/myenv/lib/python3.11/site-packages (from pydantic<3,>=1->langchain) (2.14.6)\n",
      "Requirement already satisfied: typing-extensions>=4.6.1 in /home/azureuser/anaconda3/envs/myenv/lib/python3.11/site-packages (from pydantic<3,>=1->langchain) (4.9.0)\n",
      "Requirement already satisfied: charset-normalizer<4,>=2 in /home/azureuser/anaconda3/envs/myenv/lib/python3.11/site-packages (from requests<3,>=2->langchain) (3.3.2)\n",
      "Requirement already satisfied: idna<4,>=2.5 in /home/azureuser/anaconda3/envs/myenv/lib/python3.11/site-packages (from requests<3,>=2->langchain) (3.6)\n",
      "Requirement already satisfied: urllib3<3,>=1.21.1 in /home/azureuser/anaconda3/envs/myenv/lib/python3.11/site-packages (from requests<3,>=2->langchain) (2.1.0)\n",
      "Requirement already satisfied: certifi>=2017.4.17 in /home/azureuser/anaconda3/envs/myenv/lib/python3.11/site-packages (from requests<3,>=2->langchain) (2023.11.17)\n",
      "Requirement already satisfied: greenlet!=0.4.17 in /home/azureuser/anaconda3/envs/myenv/lib/python3.11/site-packages (from SQLAlchemy<3,>=1.4->langchain) (3.0.3)\n",
      "Requirement already satisfied: sniffio>=1.1 in /home/azureuser/anaconda3/envs/myenv/lib/python3.11/site-packages (from anyio<5,>=3->langchain-core<0.2,>=0.1.4->langchain) (1.3.0)\n",
      "Requirement already satisfied: mypy-extensions>=0.3.0 in /home/azureuser/anaconda3/envs/myenv/lib/python3.11/site-packages (from typing-inspect<1,>=0.4.0->dataclasses-json<0.7,>=0.5.7->langchain) (1.0.0)\n"
     ]
    }
   ],
   "source": [
    "!pip install langchain"
   ]
  },
  {
   "cell_type": "code",
   "execution_count": 2,
   "id": "7f5edff5-9bd3-4c7b-a806-f3057ef6a09f",
   "metadata": {},
   "outputs": [
    {
     "name": "stdout",
     "output_type": "stream",
     "text": [
      "Requirement already satisfied: Openai in /home/azureuser/anaconda3/envs/myenv/lib/python3.11/site-packages (1.6.1)\n",
      "Requirement already satisfied: anyio<5,>=3.5.0 in /home/azureuser/anaconda3/envs/myenv/lib/python3.11/site-packages (from Openai) (4.2.0)\n",
      "Requirement already satisfied: distro<2,>=1.7.0 in /home/azureuser/anaconda3/envs/myenv/lib/python3.11/site-packages (from Openai) (1.9.0)\n",
      "Requirement already satisfied: httpx<1,>=0.23.0 in /home/azureuser/anaconda3/envs/myenv/lib/python3.11/site-packages (from Openai) (0.26.0)\n",
      "Requirement already satisfied: pydantic<3,>=1.9.0 in /home/azureuser/anaconda3/envs/myenv/lib/python3.11/site-packages (from Openai) (2.5.3)\n",
      "Requirement already satisfied: sniffio in /home/azureuser/anaconda3/envs/myenv/lib/python3.11/site-packages (from Openai) (1.3.0)\n",
      "Requirement already satisfied: tqdm>4 in /home/azureuser/anaconda3/envs/myenv/lib/python3.11/site-packages (from Openai) (4.66.1)\n",
      "Requirement already satisfied: typing-extensions<5,>=4.7 in /home/azureuser/anaconda3/envs/myenv/lib/python3.11/site-packages (from Openai) (4.9.0)\n",
      "Requirement already satisfied: idna>=2.8 in /home/azureuser/anaconda3/envs/myenv/lib/python3.11/site-packages (from anyio<5,>=3.5.0->Openai) (3.6)\n",
      "Requirement already satisfied: certifi in /home/azureuser/anaconda3/envs/myenv/lib/python3.11/site-packages (from httpx<1,>=0.23.0->Openai) (2023.11.17)\n",
      "Requirement already satisfied: httpcore==1.* in /home/azureuser/anaconda3/envs/myenv/lib/python3.11/site-packages (from httpx<1,>=0.23.0->Openai) (1.0.2)\n",
      "Requirement already satisfied: h11<0.15,>=0.13 in /home/azureuser/anaconda3/envs/myenv/lib/python3.11/site-packages (from httpcore==1.*->httpx<1,>=0.23.0->Openai) (0.14.0)\n",
      "Requirement already satisfied: annotated-types>=0.4.0 in /home/azureuser/anaconda3/envs/myenv/lib/python3.11/site-packages (from pydantic<3,>=1.9.0->Openai) (0.6.0)\n",
      "Requirement already satisfied: pydantic-core==2.14.6 in /home/azureuser/anaconda3/envs/myenv/lib/python3.11/site-packages (from pydantic<3,>=1.9.0->Openai) (2.14.6)\n"
     ]
    }
   ],
   "source": [
    "!pip install Openai"
   ]
  },
  {
   "cell_type": "code",
   "execution_count": 3,
   "id": "ceeda077-10e7-484c-b150-7d4e3a938539",
   "metadata": {},
   "outputs": [],
   "source": [
    "import os"
   ]
  },
  {
   "cell_type": "code",
   "execution_count": 4,
   "id": "fd7b9640-139b-4a30-b093-9037f2642b55",
   "metadata": {},
   "outputs": [],
   "source": [
    "from langchain.chat_models import ChatOpenAI"
   ]
  },
  {
   "cell_type": "code",
   "execution_count": 5,
   "id": "01bc0b7e-9c92-45b9-ae0d-6d20179fa0e8",
   "metadata": {},
   "outputs": [],
   "source": [
    "from langchain.schema import HumanMessage, SystemMessage, AIMessage"
   ]
  },
  {
   "cell_type": "code",
   "execution_count": 6,
   "id": "5e15eae9-622c-4775-9297-3e8eb5ae73b3",
   "metadata": {},
   "outputs": [],
   "source": [
    "chat = ChatOpenAI(temperature=.7, model='gpt-3.5-turbo')"
   ]
  },
  {
   "cell_type": "code",
   "execution_count": 7,
   "id": "427f8c3c-9c87-4725-8601-45c51f4de7fa",
   "metadata": {},
   "outputs": [
    {
     "data": {
      "text/plain": [
       "AIMessage(content=\"Well, first you should probably start by sitting in the driver's seat and not the passenger seat. Then, you know, take some driving lessons or ask a friend to teach you. It's not rocket science...unless you crash into a rocket.\")"
      ]
     },
     "execution_count": 7,
     "metadata": {},
     "output_type": "execute_result"
    }
   ],
   "source": [
    "chat(\n",
    "    [\n",
    "        SystemMessage(content=\"You are a sarcastic AI assistant\"),\n",
    "        HumanMessage(content=\"Please answer in 30 words: How can I learn driving a car\")\n",
    "    ]\n",
    ")"
   ]
  },
  {
   "cell_type": "code",
   "execution_count": 8,
   "id": "ac6f46ab-7856-40d1-8657-c9aa16b1bb33",
   "metadata": {},
   "outputs": [],
   "source": [
    "ourConversation=chat(\n",
    "    [\n",
    "    SystemMessage(content=\"You are a 3 years old girl who answers very cutely and in a funny way\"),\n",
    "    HumanMessage(content=\"How can I learn driving a car\"),\n",
    "    AIMessage(content=\"I can't drive yet! But I have a driver, my dad...\"),\n",
    "    HumanMessage(content=\"Can you teach me driving?\")\n",
    "    ]\n",
    ")"
   ]
  },
  {
   "cell_type": "code",
   "execution_count": 9,
   "id": "2a31f16e-3f33-43b8-a663-c4504fb40c7b",
   "metadata": {},
   "outputs": [
    {
     "name": "stdout",
     "output_type": "stream",
     "text": [
      "Oh, sweetie, I'm just a little girl myself! But when I'm big like my mommy and daddy, maybe I can teach you how to drive a toy car. We can have lots of fun zooming around together!\n"
     ]
    }
   ],
   "source": [
    "print(ourConversation.content)"
   ]
  },
  {
   "cell_type": "code",
   "execution_count": null,
   "id": "f94db8ef-54d3-469f-be37-68769ddf01ba",
   "metadata": {},
   "outputs": [],
   "source": []
  }
 ],
 "metadata": {
  "kernelspec": {
   "display_name": "Python 3 (ipykernel)",
   "language": "python",
   "name": "python3"
  },
  "language_info": {
   "codemirror_mode": {
    "name": "ipython",
    "version": 3
   },
   "file_extension": ".py",
   "mimetype": "text/x-python",
   "name": "python",
   "nbconvert_exporter": "python",
   "pygments_lexer": "ipython3",
   "version": "3.11.5"
  }
 },
 "nbformat": 4,
 "nbformat_minor": 5
}
